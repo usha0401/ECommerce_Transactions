{
  "nbformat": 4,
  "nbformat_minor": 0,
  "metadata": {
    "colab": {
      "provenance": []
    },
    "kernelspec": {
      "name": "python3",
      "display_name": "Python 3"
    },
    "language_info": {
      "name": "python"
    }
  },
  "cells": [
    {
      "cell_type": "code",
      "execution_count": null,
      "metadata": {
        "id": "KsjUlVEEBS3_"
      },
      "outputs": [],
      "source": [
        "import pandas as pd\n",
        "from sklearn.metrics.pairwise import cosine_similarity\n",
        "from sklearn.preprocessing import StandardScaler, OneHotEncoder\n",
        "from sklearn.compose import ColumnTransformer\n",
        "from sklearn.pipeline import Pipeline\n",
        "\n",
        "# Load datasets\n",
        "customers = pd.read_csv(\"Customers.csv\")\n",
        "products = pd.read_csv(\"Products.csv\")\n",
        "transactions = pd.read_csv(\"Transactions.csv\")\n",
        "\n",
        "# Merge datasets\n",
        "data = transactions.merge(customers, on=\"CustomerID\", how=\"left\").merge(products, on=\"ProductID\", how=\"left\")\n",
        "\n",
        "# Feature engineering: Aggregating customer-level data\n",
        "customer_features = data.groupby(\"CustomerID\").agg({\n",
        "    'TotalValue': 'sum',                     # Total spend\n",
        "    'ProductID': 'nunique',                  # Unique products purchased\n",
        "    'Category': lambda x: x.mode()[0],       # Most common category\n",
        "    'Region': 'first'                        # Region of the customer\n",
        "}).reset_index()\n",
        "\n",
        "\n",
        "\n"
      ]
    },
    {
      "cell_type": "code",
      "source": [
        "# Encoding categorical variables (Region and Category)\n",
        "encoder = ColumnTransformer([\n",
        "    ('onehot', OneHotEncoder(), ['Region', 'Category'])\n",
        "], remainder='passthrough')\n",
        "\n",
        "# Standardizing numerical features\n",
        "scaler = StandardScaler()\n",
        "\n",
        "pipeline = Pipeline([\n",
        "    ('encoder', encoder),\n",
        "    ('scaler', scaler)\n",
        "])\n",
        "\n",
        "customer_data = pipeline.fit_transform(customer_features[['Region', 'Category', 'TotalValue', 'ProductID']])\n",
        "\n",
        "# Compute similarity matrix\n",
        "similarity_matrix = cosine_similarity(customer_data)"
      ],
      "metadata": {
        "id": "zKFtwmoNB4Tx"
      },
      "execution_count": null,
      "outputs": []
    },
    {
      "cell_type": "code",
      "source": [
        "\n",
        "# Extract top 3 lookalikes for each customer\n",
        "customer_ids = customer_features['CustomerID'].tolist()\n",
        "lookalikes = {}\n",
        "\n",
        "for idx, customer_id in enumerate(customer_ids[:20]):  # Limit to first 20 customers\n",
        "    similarity_scores = list(enumerate(similarity_matrix[idx]))\n",
        "    similarity_scores = sorted(similarity_scores, key=lambda x: x[1], reverse=True)\n",
        "\n",
        "    # Skip self-comparison and take top 3 lookalikes\n",
        "    top_lookalikes = [\n",
        "        (customer_ids[sim[0]], sim[1]) for sim in similarity_scores[1:4]\n",
        "    ]\n",
        "    lookalikes[customer_id] = top_lookalikes\n",
        "\n"
      ],
      "metadata": {
        "id": "TeDzgzeJB4Ed"
      },
      "execution_count": null,
      "outputs": []
    },
    {
      "cell_type": "code",
      "source": [
        "# Create Lookalike.csv\n",
        "lookalike_df = pd.DataFrame({\n",
        "    'CustomerID': list(lookalikes.keys()),\n",
        "    'Lookalikes': [\n",
        "        [{'cust_id': lk[0], 'score': lk[1]} for lk in lookalikes[cust]]\n",
        "        for cust in lookalikes\n",
        "    ]\n",
        "})\n",
        "\n",
        "lookalike_df.to_csv(\"Lookalike.csv\", index=False)\n",
        "print(\"Lookalike.csv created successfully!\")"
      ],
      "metadata": {
        "colab": {
          "base_uri": "https://localhost:8080/"
        },
        "id": "OpxLdDowB32G",
        "outputId": "9cac918a-9e4d-4741-9390-30affc466e85"
      },
      "execution_count": null,
      "outputs": [
        {
          "output_type": "stream",
          "name": "stdout",
          "text": [
            "Lookalike.csv created successfully!\n"
          ]
        }
      ]
    }
  ]
}